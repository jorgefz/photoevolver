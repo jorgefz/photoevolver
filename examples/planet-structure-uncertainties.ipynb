{
 "cells": [
  {
   "cell_type": "code",
   "execution_count": 1,
   "id": "fb877c2a",
   "metadata": {},
   "outputs": [],
   "source": [
    "\"\"\"\n",
    "This notebook shows you how to solve for a planet's structure\n",
    "from parameters with uncertainties.\n",
    "The uncertainties are defined with `uncertainties.ufloat` objects\n",
    "from the python module `uncertainties`.\n",
    "Only symmetrical errors are supported.\n",
    "See https://pythonhosted.org/uncertainties/\n",
    "\"\"\"\n",
    "import photoevolver as ph\n",
    "import Mors as mors # For the stellar model. See https://github.com/ColinPhilipJohnstone/Mors\n",
    "from uncertainties import ufloat"
   ]
  },
  {
   "cell_type": "code",
   "execution_count": 7,
   "id": "c14cb77c",
   "metadata": {},
   "outputs": [
    {
     "name": "stdout",
     "output_type": "stream",
     "text": [
      "(EvoState(mass=5.0+/-0.5, radius=3.0+/-0.1, mcore=4.845587770422298+/-0.48492098461247796, rcore=1.6277499827901467+/-0.047240035039905565, fenv=0.0318665633342239+/-0.003990480660694155, renv=1.3722500172098533+/-0.11059665867724715, period=None, sep=0.1, mstar=None, lx=None, leuv=None, lbol=1e+33, age=100, tstep=None), 1)\n"
     ]
    },
    {
     "data": {
      "text/plain": [
       "'\\nsolution = ph.planet.solve_planet_from_mass_radius_uncert(\\n    state      :EvoState,\\n    env_model  :callable,\\n    core_model :callable,\\n    fenv_guess :float = 0.01,\\n    model_kw   :dict  = None,\\n    error_kw   :dict  = None,\\n)\\n'"
      ]
     },
     "execution_count": 7,
     "metadata": {},
     "output_type": "execute_result"
    }
   ],
   "source": [
    "planet = ph.Planet(\n",
    "    mass   = ufloat(5.0, 0.5),\n",
    "    radius = ufloat(3.0, 0.1),\n",
    "    sep  = 0.1,\n",
    "    lbol = 1e33,\n",
    "    age  = 100\n",
    ")\n",
    "\n",
    "planet.set_models(\n",
    "    core_model = ph.models.core_otegi20,\n",
    "    envelope_model = ph.models.envelope_chen16,\n",
    "    star_model = mors.Star(Mstar = 1.0, percentile = 50.0)\n",
    ")\n",
    "\n",
    "solution = ph.planet.solve_planet_from_mass_radius_uncert(\n",
    "    state      = planet.initial_state,\n",
    "    env_model  = planet.envelope_model,\n",
    "    core_model = planet.core_model\n",
    ")\n",
    "print(solution)\n",
    "\n",
    "\"\"\"\n",
    "solution = ph.planet.solve_planet_from_mass_radius_uncert(\n",
    "    planet,   age,\n",
    "    \n",
    "    fenv_guess :float = 0.01,\n",
    "    model_kw   :dict  = None,\n",
    "    error_kw   :dict  = None,\n",
    ")\n",
    "\"\"\""
   ]
  }
 ],
 "metadata": {
  "kernelspec": {
   "display_name": "Python 3 (ipykernel)",
   "language": "python",
   "name": "python3"
  },
  "language_info": {
   "codemirror_mode": {
    "name": "ipython",
    "version": 3
   },
   "file_extension": ".py",
   "mimetype": "text/x-python",
   "name": "python",
   "nbconvert_exporter": "python",
   "pygments_lexer": "ipython3",
   "version": "3.10.6"
  }
 },
 "nbformat": 4,
 "nbformat_minor": 5
}
