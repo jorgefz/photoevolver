{
 "cells": [
  {
   "cell_type": "code",
   "execution_count": 1,
   "id": "fb877c2a",
   "metadata": {},
   "outputs": [],
   "source": [
    "\"\"\"\n",
    "This notebook shows you how to solve for a planet's structure\n",
    "from parameters with uncertainties.\n",
    "The uncertainties are defined with `uncertainties.ufloat` objects\n",
    "from the python module `uncertainties`.\n",
    "Only symmetrical errors are supported.\n",
    "See https://pythonhosted.org/uncertainties/\n",
    "\n",
    "Note that it is currently not possible to evolve planets with uncertainties,\n",
    "although that might be implemented in the future.\n",
    "\"\"\"\n",
    "import photoevolver as ph\n",
    "import Mors as mors # For the stellar model. See https://github.com/ColinPhilipJohnstone/Mors\n",
    "from uncertainties import ufloat"
   ]
  },
  {
   "cell_type": "code",
   "execution_count": 2,
   "id": "c14cb77c",
   "metadata": {},
   "outputs": [],
   "source": [
    "\"\"\"\n",
    "First define a planet with its mass and radius as values with uncertainties.\n",
    "Values with uncertainties must be defined using the `ufloat` function from the `uncertainties` package.\n",
    "You can also provide normal python floats if a value has no uncertainty.\n",
    "\n",
    "See 'examples/planet-evolution.ipynb' for more information on\n",
    "how to create Planet objects.\n",
    "\"\"\"\n",
    "planet = ph.Planet(\n",
    "    mass    = ufloat(5.0, 0.5),\n",
    "    radius  = ufloat(3.0, 0.1),\n",
    "    period  = ufloat(10.0, 1e-4), # or just `period = 10.0`\n",
    ")"
   ]
  },
  {
   "cell_type": "code",
   "execution_count": 3,
   "id": "8533b6ae",
   "metadata": {},
   "outputs": [],
   "source": [
    "\"\"\"\n",
    "Then, define the models to use to solve for the planet's structure.\n",
    "See 'examples/planet-evolution.ipynb' for the meaning of these models.\n",
    "\"\"\"\n",
    "star = mors.Star(Mstar = 1.0, percentile = 50.0)\n",
    "\n",
    "planet.set_models(\n",
    "    core_model = ph.models.core_otegi20,\n",
    "    envelope_model = ph.models.envelope_chen16,\n",
    "    star_model = star\n",
    ")"
   ]
  },
  {
   "cell_type": "code",
   "execution_count": 9,
   "id": "b23f0f0c",
   "metadata": {},
   "outputs": [
    {
     "name": "stdout",
     "output_type": "stream",
     "text": [
      "Success: True\n",
      "{'mass': 5.0+/-0.5, 'radius': 3.0+/-0.1, 'mcore': 4.836853947419937+/-0.48432986992663685, 'rcore': 1.626898606200008+/-0.06234953809155433, 'fenv': 0.033729786831187734+/-0.0053381191045556884, 'renv': 1.373101393799992+/-0.11784508857067479, 'period': 10.0+/-0.0001, 'sep': 0.09083848644134808+/-6.072929355163984e-07, 'mstar': 1.0, 'lx': None, 'leuv': None, 'lbol': None, 'age': 1000.0+/-500.0, 'tstep': None}\n"
     ]
    }
   ],
   "source": [
    "\"\"\"\n",
    "Finally, use the function `solve_with_errors` to\n",
    "compute the planet's structure whilst propagating uncertainties.\n",
    "You will also need to provide the age of the system,\n",
    "which may also have uncertainties.\n",
    "\n",
    "This function will return a dictionary with the planet parameters\n",
    "solved with uncertainties, and a boolean that tells you whether the\n",
    "solution converged (True) or not (False) for all samples.\n",
    "If the solution does not converge, it might mean that your uncertainties\n",
    "are too broad and the tails of the distributions are leading to\n",
    "unphysical planet structures.\n",
    "Please first ensure the solution converges without uncertainties.\n",
    "\"\"\"\n",
    "age = ufloat(1000, 500)\n",
    "solution, success = ph.planet.solve_with_errors(\n",
    "    planet = planet,\n",
    "    age = age,\n",
    "    error_kw = {'ot20_errors':True}\n",
    ")\n",
    "\n",
    "print(\"Success:\", success)\n",
    "print(solution)"
   ]
  }
 ],
 "metadata": {
  "kernelspec": {
   "display_name": "Python 3 (ipykernel)",
   "language": "python",
   "name": "python3"
  },
  "language_info": {
   "codemirror_mode": {
    "name": "ipython",
    "version": 3
   },
   "file_extension": ".py",
   "mimetype": "text/x-python",
   "name": "python",
   "nbconvert_exporter": "python",
   "pygments_lexer": "ipython3",
   "version": "3.10.6"
  }
 },
 "nbformat": 4,
 "nbformat_minor": 5
}
