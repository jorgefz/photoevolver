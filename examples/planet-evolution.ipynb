{
 "cells": [
  {
   "cell_type": "code",
   "execution_count": 1,
   "id": "fb05735a",
   "metadata": {},
   "outputs": [],
   "source": [
    "%matplotlib inline\n",
    "import matplotlib.pyplot as plt\n",
    "import photoevolver as ph"
   ]
  },
  {
   "cell_type": "markdown",
   "id": "1ffb91d4",
   "metadata": {},
   "source": [
    "## Planet structure from mass and radius"
   ]
  },
  {
   "cell_type": "code",
   "execution_count": 2,
   "id": "06324d19",
   "metadata": {},
   "outputs": [
    {
     "data": {
      "text/plain": [
       "Ellipsis"
      ]
     },
     "execution_count": 2,
     "metadata": {},
     "output_type": "execute_result"
    }
   ],
   "source": [
    "\"\"\"\n",
    "(1) Create your planet\n",
    "\n",
    "First, define your planet with some of its known parameters.\n",
    "For example, you can specify its measured mass and radius.\n",
    "You must also specify either its orbital period in days,\n",
    "or its orbital separation in AU.\n",
    "\n",
    "Here, we create a 2.5 Earth radii planet with a mass of 5 Earth masses,\n",
    "and a period of 5 days.\n",
    "\"\"\"\n",
    "planet = ph.Planet(mass = 5.0, radius = 3.0, period = 5)\n",
    "\n",
    "\"\"\"\n",
    "You can also specify its core mass (or radius) and envelope mass fraction,\n",
    "instead of its mass and radius.\n",
    "\n",
    "For instance, this is a planet with a 3 Earth mass core,\n",
    "and a gaseous envelope consisting of 1% of its mass.\n",
    "It is also located 0.1 AU from its host star.\n",
    "`planet = ph.Planet(mcore = 3, fenv = 0.01, sep = 0.1)`\n",
    "\n",
    "The planet parameters are the following:\n",
    "    mass     Planet mass in Earth masses\n",
    "    radius   Planet radius in Earth radii\n",
    "    mcore    Core mass in Earth masses\n",
    "    rcore    Core radius in Earth radii\n",
    "    fenv     Envelope mass fraction, defined as envelope mass over core mass: (mass-mcore)/mcore\n",
    "    renv     Envelope radius or thickness in Earth radii\n",
    "    period   Orbital period in days\n",
    "    sep      Orbital semi-major axis in AU\n",
    "\"\"\"\n",
    "..."
   ]
  },
  {
   "cell_type": "code",
   "execution_count": 3,
   "id": "acfd9f7d",
   "metadata": {},
   "outputs": [
    {
     "data": {
      "text/plain": [
       "Planet(mass=5.00, radius=3.00, period=5.00, mcore=None, rcore=None, fenv=None, renv=None)"
      ]
     },
     "execution_count": 3,
     "metadata": {},
     "output_type": "execute_result"
    }
   ],
   "source": [
    "\"\"\"\n",
    "We then provide the models (functions) that will define the planet's internal structure\n",
    "as well as its evolution.\n",
    "\n",
    "The `core_model` is a mass-radius relation for the core.\n",
    "Given a core mass, it returns its radius.\n",
    "See `ph.models.core_*` pre-defined models.\n",
    "\n",
    "The `envelope_model` calculates the envelope thickness `renv`\n",
    "from its envelope mass fraction.\n",
    "See `ph.models.envelope_*` pre-defined models.\n",
    "\n",
    "The `mass_loss_model` returns the mass loss rate in grams/second\n",
    "given the full list of solved planet parameters.\n",
    "If left undefined, it will default to no mass loss (a function always returning zero).\n",
    "See `ph.models.massloss_*` pre-defined models.\n",
    "\n",
    "The `star_model` defines the XUV evolution of the host star.\n",
    "It should provide the star's X-ray, EUV, and bolometric luminosities\n",
    "at any given age, as well as its mass in solar masses.\n",
    "\n",
    "You can also use a `Mors.Star` instance.\n",
    "See the Mors module at https://github.com/ColinPhilipJohnstone/Mors\n",
    "\"\"\"\n",
    "\n",
    "import Mors as mors\n",
    "\n",
    "star = mors.Star(Mstar = 1.0, percentile = 50.0) # Sun-like star\n",
    "\n",
    "planet.set_models(\n",
    "    core  = ph.models.core_otegi20,\n",
    "    env   = ph.models.envelope_chen16,\n",
    "    mloss = ph.models.massloss_energy_limited,\n",
    "    star  = star\n",
    ")"
   ]
  },
  {
   "cell_type": "code",
   "execution_count": 10,
   "id": "4ee20599",
   "metadata": {},
   "outputs": [
    {
     "name": "stdout",
     "output_type": "stream",
     "text": [
      "EvoState(mass=5.0, radius=3.0, mcore=4.912228801756035, rcore=1.6342105693051685, fenv=0.017867896994657392, renv=1.3657894306948315, period=5, sep=0.057224374150792415, mstar=1.0, lx=3.326505637683889e+29, leuv=3.0382796698932085e+29, lbol=2.896278153425812e+33, age=100.0, tstep=None)\n"
     ]
    }
   ],
   "source": [
    "\"\"\"\n",
    "Now, you can combine the parameters you defined with the given models,\n",
    "and solve for its internal structure.\n",
    "If you provided the mass and radius, `photoevolver` will try to\n",
    "solve the structure models to calculate the core and envelope mass and radius.\n",
    "The only quantity it needs is the current age of the system in Myr.\n",
    "\"\"\"\n",
    "structure = planet.solve_structure(age = 100.0) # Myr\n",
    "\n",
    "\"\"\"\n",
    "With this configuration, at the age of 100 Myr, the models tell us\n",
    "the planet has a rocky core radius (`rcore`) of 1.64 Earth radii, about 60% of the planet's size,\n",
    "and a gaseous envelope equal to 1.8% of the planet's core mass (`fenv`).\n",
    "\"\"\"\n",
    "print(structure)"
   ]
  },
  {
   "cell_type": "markdown",
   "id": "112fd2bd",
   "metadata": {},
   "source": [
    "## Planet evolution"
   ]
  },
  {
   "cell_type": "code",
   "execution_count": 5,
   "id": "b95b3bb7",
   "metadata": {},
   "outputs": [
    {
     "name": "stderr",
     "output_type": "stream",
     "text": [
      "99.978%|██████████████████████████████████████████████████████████████████████████████████████▉| 899.800/900.0 [00:02<00:00]\n"
     ]
    },
    {
     "data": {
      "text/html": [
       "<div>\n",
       "<style scoped>\n",
       "    .dataframe tbody tr th:only-of-type {\n",
       "        vertical-align: middle;\n",
       "    }\n",
       "\n",
       "    .dataframe tbody tr th {\n",
       "        vertical-align: top;\n",
       "    }\n",
       "\n",
       "    .dataframe thead th {\n",
       "        text-align: right;\n",
       "    }\n",
       "</style>\n",
       "<table border=\"1\" class=\"dataframe\">\n",
       "  <thead>\n",
       "    <tr style=\"text-align: right;\">\n",
       "      <th></th>\n",
       "      <th>mass</th>\n",
       "      <th>radius</th>\n",
       "      <th>mcore</th>\n",
       "      <th>rcore</th>\n",
       "      <th>fenv</th>\n",
       "      <th>renv</th>\n",
       "      <th>period</th>\n",
       "      <th>sep</th>\n",
       "      <th>mstar</th>\n",
       "      <th>lx</th>\n",
       "      <th>leuv</th>\n",
       "      <th>lbol</th>\n",
       "      <th>age</th>\n",
       "      <th>tstep</th>\n",
       "    </tr>\n",
       "  </thead>\n",
       "  <tbody>\n",
       "    <tr>\n",
       "      <th>0</th>\n",
       "      <td>5.000000</td>\n",
       "      <td>3.000000</td>\n",
       "      <td>4.912229</td>\n",
       "      <td>1.634211</td>\n",
       "      <td>0.017868</td>\n",
       "      <td>1.365789</td>\n",
       "      <td>5</td>\n",
       "      <td>0.057224</td>\n",
       "      <td>1.0</td>\n",
       "      <td>3.326506e+29</td>\n",
       "      <td>3.038280e+29</td>\n",
       "      <td>2.896278e+33</td>\n",
       "      <td>100.0</td>\n",
       "      <td>0.1</td>\n",
       "    </tr>\n",
       "    <tr>\n",
       "      <th>1</th>\n",
       "      <td>5.000075</td>\n",
       "      <td>3.000596</td>\n",
       "      <td>4.912229</td>\n",
       "      <td>1.634211</td>\n",
       "      <td>0.017883</td>\n",
       "      <td>1.366385</td>\n",
       "      <td>5</td>\n",
       "      <td>0.057224</td>\n",
       "      <td>1.0</td>\n",
       "      <td>3.326506e+29</td>\n",
       "      <td>3.038280e+29</td>\n",
       "      <td>2.896278e+33</td>\n",
       "      <td>100.0</td>\n",
       "      <td>0.1</td>\n",
       "    </tr>\n",
       "    <tr>\n",
       "      <th>2</th>\n",
       "      <td>5.000000</td>\n",
       "      <td>2.999933</td>\n",
       "      <td>4.912229</td>\n",
       "      <td>1.634211</td>\n",
       "      <td>0.017868</td>\n",
       "      <td>1.365722</td>\n",
       "      <td>5</td>\n",
       "      <td>0.057224</td>\n",
       "      <td>1.0</td>\n",
       "      <td>3.324234e+29</td>\n",
       "      <td>3.036904e+29</td>\n",
       "      <td>2.896337e+33</td>\n",
       "      <td>100.1</td>\n",
       "      <td>0.1</td>\n",
       "    </tr>\n",
       "    <tr>\n",
       "      <th>3</th>\n",
       "      <td>4.999925</td>\n",
       "      <td>2.999271</td>\n",
       "      <td>4.912229</td>\n",
       "      <td>1.634211</td>\n",
       "      <td>0.017853</td>\n",
       "      <td>1.365060</td>\n",
       "      <td>5</td>\n",
       "      <td>0.057224</td>\n",
       "      <td>1.0</td>\n",
       "      <td>3.321963e+29</td>\n",
       "      <td>3.035528e+29</td>\n",
       "      <td>2.896395e+33</td>\n",
       "      <td>100.2</td>\n",
       "      <td>0.1</td>\n",
       "    </tr>\n",
       "    <tr>\n",
       "      <th>4</th>\n",
       "      <td>4.999850</td>\n",
       "      <td>2.998610</td>\n",
       "      <td>4.912229</td>\n",
       "      <td>1.634211</td>\n",
       "      <td>0.017837</td>\n",
       "      <td>1.364399</td>\n",
       "      <td>5</td>\n",
       "      <td>0.057224</td>\n",
       "      <td>1.0</td>\n",
       "      <td>3.319692e+29</td>\n",
       "      <td>3.034152e+29</td>\n",
       "      <td>2.896454e+33</td>\n",
       "      <td>100.3</td>\n",
       "      <td>0.1</td>\n",
       "    </tr>\n",
       "    <tr>\n",
       "      <th>...</th>\n",
       "      <td>...</td>\n",
       "      <td>...</td>\n",
       "      <td>...</td>\n",
       "      <td>...</td>\n",
       "      <td>...</td>\n",
       "      <td>...</td>\n",
       "      <td>...</td>\n",
       "      <td>...</td>\n",
       "      <td>...</td>\n",
       "      <td>...</td>\n",
       "      <td>...</td>\n",
       "      <td>...</td>\n",
       "      <td>...</td>\n",
       "      <td>...</td>\n",
       "    </tr>\n",
       "    <tr>\n",
       "      <th>8995</th>\n",
       "      <td>4.912229</td>\n",
       "      <td>1.634211</td>\n",
       "      <td>4.912229</td>\n",
       "      <td>1.634211</td>\n",
       "      <td>0.000012</td>\n",
       "      <td>0.233410</td>\n",
       "      <td>5</td>\n",
       "      <td>0.057224</td>\n",
       "      <td>1.0</td>\n",
       "      <td>7.225082e+28</td>\n",
       "      <td>1.112589e+29</td>\n",
       "      <td>3.112056e+33</td>\n",
       "      <td>999.4</td>\n",
       "      <td>0.1</td>\n",
       "    </tr>\n",
       "    <tr>\n",
       "      <th>8996</th>\n",
       "      <td>4.912229</td>\n",
       "      <td>1.634211</td>\n",
       "      <td>4.912229</td>\n",
       "      <td>1.634211</td>\n",
       "      <td>0.000012</td>\n",
       "      <td>0.233410</td>\n",
       "      <td>5</td>\n",
       "      <td>0.057224</td>\n",
       "      <td>1.0</td>\n",
       "      <td>7.224111e+28</td>\n",
       "      <td>1.112491e+29</td>\n",
       "      <td>3.112079e+33</td>\n",
       "      <td>999.5</td>\n",
       "      <td>0.1</td>\n",
       "    </tr>\n",
       "    <tr>\n",
       "      <th>8997</th>\n",
       "      <td>4.912229</td>\n",
       "      <td>1.634211</td>\n",
       "      <td>4.912229</td>\n",
       "      <td>1.634211</td>\n",
       "      <td>0.000012</td>\n",
       "      <td>0.233410</td>\n",
       "      <td>5</td>\n",
       "      <td>0.057224</td>\n",
       "      <td>1.0</td>\n",
       "      <td>7.223139e+28</td>\n",
       "      <td>1.112392e+29</td>\n",
       "      <td>3.112102e+33</td>\n",
       "      <td>999.6</td>\n",
       "      <td>0.1</td>\n",
       "    </tr>\n",
       "    <tr>\n",
       "      <th>8998</th>\n",
       "      <td>4.912229</td>\n",
       "      <td>1.634211</td>\n",
       "      <td>4.912229</td>\n",
       "      <td>1.634211</td>\n",
       "      <td>0.000012</td>\n",
       "      <td>0.233410</td>\n",
       "      <td>5</td>\n",
       "      <td>0.057224</td>\n",
       "      <td>1.0</td>\n",
       "      <td>7.222167e+28</td>\n",
       "      <td>1.112294e+29</td>\n",
       "      <td>3.112125e+33</td>\n",
       "      <td>999.7</td>\n",
       "      <td>0.1</td>\n",
       "    </tr>\n",
       "    <tr>\n",
       "      <th>8999</th>\n",
       "      <td>4.912229</td>\n",
       "      <td>1.634211</td>\n",
       "      <td>4.912229</td>\n",
       "      <td>1.634211</td>\n",
       "      <td>0.000012</td>\n",
       "      <td>0.233410</td>\n",
       "      <td>5</td>\n",
       "      <td>0.057224</td>\n",
       "      <td>1.0</td>\n",
       "      <td>7.221195e+28</td>\n",
       "      <td>1.112196e+29</td>\n",
       "      <td>3.112148e+33</td>\n",
       "      <td>999.8</td>\n",
       "      <td>0.1</td>\n",
       "    </tr>\n",
       "  </tbody>\n",
       "</table>\n",
       "<p>9000 rows × 14 columns</p>\n",
       "</div>"
      ],
      "text/plain": [
       "          mass    radius     mcore     rcore      fenv      renv  period  \\\n",
       "0     5.000000  3.000000  4.912229  1.634211  0.017868  1.365789       5   \n",
       "1     5.000075  3.000596  4.912229  1.634211  0.017883  1.366385       5   \n",
       "2     5.000000  2.999933  4.912229  1.634211  0.017868  1.365722       5   \n",
       "3     4.999925  2.999271  4.912229  1.634211  0.017853  1.365060       5   \n",
       "4     4.999850  2.998610  4.912229  1.634211  0.017837  1.364399       5   \n",
       "...        ...       ...       ...       ...       ...       ...     ...   \n",
       "8995  4.912229  1.634211  4.912229  1.634211  0.000012  0.233410       5   \n",
       "8996  4.912229  1.634211  4.912229  1.634211  0.000012  0.233410       5   \n",
       "8997  4.912229  1.634211  4.912229  1.634211  0.000012  0.233410       5   \n",
       "8998  4.912229  1.634211  4.912229  1.634211  0.000012  0.233410       5   \n",
       "8999  4.912229  1.634211  4.912229  1.634211  0.000012  0.233410       5   \n",
       "\n",
       "           sep  mstar            lx          leuv          lbol    age  tstep  \n",
       "0     0.057224    1.0  3.326506e+29  3.038280e+29  2.896278e+33  100.0    0.1  \n",
       "1     0.057224    1.0  3.326506e+29  3.038280e+29  2.896278e+33  100.0    0.1  \n",
       "2     0.057224    1.0  3.324234e+29  3.036904e+29  2.896337e+33  100.1    0.1  \n",
       "3     0.057224    1.0  3.321963e+29  3.035528e+29  2.896395e+33  100.2    0.1  \n",
       "4     0.057224    1.0  3.319692e+29  3.034152e+29  2.896454e+33  100.3    0.1  \n",
       "...        ...    ...           ...           ...           ...    ...    ...  \n",
       "8995  0.057224    1.0  7.225082e+28  1.112589e+29  3.112056e+33  999.4    0.1  \n",
       "8996  0.057224    1.0  7.224111e+28  1.112491e+29  3.112079e+33  999.5    0.1  \n",
       "8997  0.057224    1.0  7.223139e+28  1.112392e+29  3.112102e+33  999.6    0.1  \n",
       "8998  0.057224    1.0  7.222167e+28  1.112294e+29  3.112125e+33  999.7    0.1  \n",
       "8999  0.057224    1.0  7.221195e+28  1.112196e+29  3.112148e+33  999.8    0.1  \n",
       "\n",
       "[9000 rows x 14 columns]"
      ]
     },
     "execution_count": 5,
     "metadata": {},
     "output_type": "execute_result"
    }
   ],
   "source": [
    "\"\"\"\n",
    "Now we can evolve the planet's envelope under thermal contraction and evaporation\n",
    "until the age of 2 Gyr with a fixed step size of 0.1 Myr.\n",
    "This function `evolve` performs the computation and returns a pandas data frame\n",
    "with columns for each simulation parameter, and rows that hold the value\n",
    "of these parameters on each time step.\n",
    "\"\"\"\n",
    "evo_df = planet.evolve(start=100.0, end=1000.0, step=0.1, progressbar=True)\n",
    "evo_df"
   ]
  },
  {
   "cell_type": "code",
   "execution_count": 6,
   "id": "b4d96b0b",
   "metadata": {},
   "outputs": [
    {
     "data": {
      "text/plain": [
       "Ellipsis"
      ]
     },
     "execution_count": 6,
     "metadata": {},
     "output_type": "execute_result"
    },
    {
     "data": {
      "image/png": "[encoded data removed]",
      "text/plain": [
       "<Figure size 640x480 with 2 Axes>"
      ]
     },
     "metadata": {},
     "output_type": "display_data"
    }
   ],
   "source": [
    "\"\"\"\n",
    "Now we will plot the radius and mass evolution of the planet.\n",
    "\"\"\"\n",
    "\n",
    "fig, (axr, axm) = plt.subplots(nrows = 2, dpi = 100, sharex = True)\n",
    "\n",
    "axr.set_xscale('log')\n",
    "axm.set_xlabel('Age [Myr]')\n",
    "axr.set_ylabel(r'Planet radius [$R_{\\oplus}$]')\n",
    "axm.set_ylabel(r'Envelope mass fraction')\n",
    "\n",
    "evo_df.plot('age', 'radius', ax = axr)\n",
    "evo_df.plot('age', 'fenv', ax = axm)\n",
    "plt.tight_layout()\n",
    "            \n",
    "\"\"\"\n",
    "We see that the planet's atmosphere evaporates completely by the age of 350 Myr.\n",
    "\"\"\"\n",
    "..."
   ]
  },
  {
   "cell_type": "code",
   "execution_count": 8,
   "id": "4624b12a",
   "metadata": {},
   "outputs": [
    {
     "name": "stderr",
     "output_type": "stream",
     "text": [
      "87.333%|█████████████████████████████████████████████████████████████████████████████▋           | 78.600/90.0 [00:00<00:00]/home/jorge/Work/.venv/lib/python3.10/site-packages/tqdm/std.py:533: TqdmWarning: clamping frac to range [0, 1]\n",
      "  full_bar = Bar(frac,\n",
      "100.111%|████████████████████████████████████████████████████████████████████████████████████████| 90.100/90.0 [00:00<00:00]\n"
     ]
    },
    {
     "data": {
      "text/plain": [
       "Ellipsis"
      ]
     },
     "execution_count": 8,
     "metadata": {},
     "output_type": "execute_result"
    },
    {
     "data": {
      "image/png": "[encoded data removed]",
      "text/plain": [
       "<Figure size 640x480 with 2 Axes>"
      ]
     },
     "metadata": {},
     "output_type": "display_data"
    }
   ],
   "source": [
    "\"\"\"\n",
    "You may also evolve a planet's state backwards by specifying a starting age that is\n",
    "older than the ending age. For instance, let's evolve backwards from 100 Myr to 10 Myr.\n",
    "\"\"\"\n",
    "past = planet.evolve(start=100.0, end=10.0, step=0.1, progressbar=True)\n",
    "\n",
    "fig, (axr, axm) = plt.subplots(nrows = 2, dpi = 100, sharex = True)\n",
    "\n",
    "axr.set_xscale('log')\n",
    "axm.set_xlabel('Age [Myr]')\n",
    "axr.set_ylabel(r'Planet radius [$R_{\\oplus}$]')\n",
    "axm.set_ylabel(r'Envelope mass fraction')\n",
    "\n",
    "past.plot('age', 'radius', ax = axr)\n",
    "past.plot('age', 'fenv', ax = axm)\n",
    "plt.tight_layout()\n",
    "\n",
    "\"\"\"\n",
    "We find that the planet could originally have started out with a size of 4.3 Earth radii,\n",
    "and an envelope mass fraction of about 5-6%.\n",
    "\n",
    "You may then save and load these evolution tracks by using the IO functions defined by Pandas.\n",
    "\"\"\"\n",
    "# import pandas as pd\n",
    "# past.to_csv(\"past_evolution.csv\")\n",
    "# past = pd.read_csv(\"past_evolution.csv\")\n",
    "..."
   ]
  },
  {
   "cell_type": "code",
   "execution_count": 9,
   "id": "4932bb96",
   "metadata": {},
   "outputs": [
    {
     "data": {
      "text/plain": [
       "Ellipsis"
      ]
     },
     "execution_count": 9,
     "metadata": {},
     "output_type": "execute_result"
    }
   ],
   "source": [
    "\"\"\"\n",
    "The evolution code uses the Euler method by default to integrate the models.\n",
    "This is a fixed-step integrator.\n",
    "\n",
    "Alternatively, you might use the 4th order Runge-Kutta intergator\n",
    "by specifying `method = 'rk45'`.\n",
    "Here, the parameter `step` will indicate both the first and maximum step size.\n",
    "\"\"\"\n",
    "..."
   ]
  }
 ],
 "metadata": {
  "kernelspec": {
   "display_name": "Python 3 (ipykernel)",
   "language": "python",
   "name": "python3"
  },
  "language_info": {
   "codemirror_mode": {
    "name": "ipython",
    "version": 3
   },
   "file_extension": ".py",
   "mimetype": "text/x-python",
   "name": "python",
   "nbconvert_exporter": "python",
   "pygments_lexer": "ipython3",
   "version": "3.10.12"
  },
  "vscode": {
   "interpreter": {
    "hash": "e956c49ae0caa224b5fdd754cbc353d7e61c6c61f7329ee680c7f7b4f1b71a8e"
   }
  }
 },
 "nbformat": 4,
 "nbformat_minor": 5
}
