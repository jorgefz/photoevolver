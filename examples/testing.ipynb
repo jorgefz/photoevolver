{
 "cells": [
  {
   "cell_type": "code",
   "execution_count": 3,
   "id": "40aa5387",
   "metadata": {},
   "outputs": [
    {
     "name": "stdout",
     "output_type": "stream",
     "text": [
      "2.0\n"
     ]
    }
   ],
   "source": [
    "import photoevolver as ph\n",
    "from photoevolver.planet import EvoState\n",
    "from astropy import units, constants"
   ]
  },
  {
   "cell_type": "code",
   "execution_count": 2,
   "id": "95e841cf",
   "metadata": {},
   "outputs": [
    {
     "ename": "AttributeError",
     "evalue": "module 'photoevolver' has no attribute 'massloss'",
     "output_type": "error",
     "traceback": [
      "\u001b[0;31m---------------------------------------------------------------------------\u001b[0m",
      "\u001b[0;31mAttributeError\u001b[0m                            Traceback (most recent call last)",
      "Cell \u001b[0;32mIn[2], line 7\u001b[0m\n\u001b[1;32m      4\u001b[0m conv \u001b[38;5;241m=\u001b[39m (constants\u001b[38;5;241m.\u001b[39mM_earth\u001b[38;5;241m.\u001b[39mto(\u001b[38;5;124m'\u001b[39m\u001b[38;5;124mg\u001b[39m\u001b[38;5;124m'\u001b[39m)\u001b[38;5;241m.\u001b[39mvalue\u001b[38;5;241m/\u001b[39munits\u001b[38;5;241m.\u001b[39mMyr\u001b[38;5;241m.\u001b[39mto(\u001b[38;5;124m'\u001b[39m\u001b[38;5;124ms\u001b[39m\u001b[38;5;124m'\u001b[39m))\n\u001b[1;32m      5\u001b[0m gs_corr \u001b[38;5;241m=\u001b[39m \u001b[38;5;241m5.28e-15\u001b[39m\n\u001b[0;32m----> 7\u001b[0m x \u001b[38;5;241m=\u001b[39m \u001b[43mph\u001b[49m\u001b[38;5;241;43m.\u001b[39;49m\u001b[43mmassloss\u001b[49m\u001b[38;5;241m.\u001b[39mEnergyLimited(\u001b[38;5;241m*\u001b[39m\u001b[38;5;241m*\u001b[39margs1)\n\u001b[1;32m      8\u001b[0m y \u001b[38;5;241m=\u001b[39m ph\u001b[38;5;241m.\u001b[39mdev\u001b[38;5;241m.\u001b[39mmodels\u001b[38;5;241m.\u001b[39mmassloss_energy_limited(EvoState(\u001b[38;5;241m*\u001b[39m\u001b[38;5;241m*\u001b[39margs2),\u001b[38;5;28mdict\u001b[39m())\n\u001b[1;32m      9\u001b[0m x \u001b[38;5;241m*\u001b[39m\u001b[38;5;241m=\u001b[39m conv\n",
      "\u001b[0;31mAttributeError\u001b[0m: module 'photoevolver' has no attribute 'massloss'"
     ]
    }
   ],
   "source": [
    "# Mass loss models\n",
    "args1 = dict(radius=2.0, mass=5.0, Lxuv=2e28, dist=0.01, mstar=0.77)\n",
    "args2 = dict(radius=2.0, mass=5.0, lx=2e28, leuv=0, sep=0.01, mstar=0.77)\n",
    "conv = (constants.M_earth.to('g').value/units.Myr.to('s'))\n",
    "gs_corr = 5.28e-15\n",
    "\n",
    "x = ph.massloss.EnergyLimited(**args1)\n",
    "y = ph.dev.models.massloss_energy_limited(EvoState(**args2),dict())\n",
    "x *= conv\n",
    "# x /= gs_corr\n",
    "y/x\n"
   ]
  },
  {
   "cell_type": "code",
   "execution_count": null,
   "id": "e15fb44d",
   "metadata": {},
   "outputs": [],
   "source": [
    "# Envelope models\n",
    "fenv = 0.10\n",
    "lbol = 1e33\n",
    "sep  = 0.1\n",
    "fbol = ph.dev.physics.get_flux(lbol, dist_au=sep)\n",
    "\n",
    "print(fbol)\n",
    "\n",
    "fenv2 = fenv/(fenv+1)\n",
    "print(fenv, fenv2)\n",
    "\n",
    "x = ph.structure.ChenRogers16(mass=5.0, fenv=fenv, fbol=fbol, age=100)\n",
    "y = ph.dev.models.envelope_chen16(EvoState(mass=5.0, fenv=fenv, lbol=lbol, sep=sep, age=100), dict(c16_water=False))\n",
    "x,y"
   ]
  }
 ],
 "metadata": {
  "kernelspec": {
   "display_name": "Python 3 (ipykernel)",
   "language": "python",
   "name": "python3"
  },
  "language_info": {
   "codemirror_mode": {
    "name": "ipython",
    "version": 3
   },
   "file_extension": ".py",
   "mimetype": "text/x-python",
   "name": "python",
   "nbconvert_exporter": "python",
   "pygments_lexer": "ipython3",
   "version": "3.10.6"
  },
  "vscode": {
   "interpreter": {
    "hash": "e956c49ae0caa224b5fdd754cbc353d7e61c6c61f7329ee680c7f7b4f1b71a8e"
   }
  }
 },
 "nbformat": 4,
 "nbformat_minor": 5
}
