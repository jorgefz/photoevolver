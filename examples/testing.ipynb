{
 "cells": [
  {
   "cell_type": "code",
   "execution_count": 1,
   "id": "40aa5387",
   "metadata": {},
   "outputs": [],
   "source": [
    "import photoevolver as ph\n",
    "from photoevolver.planet import EvoState\n",
    "from astropy import units, constants"
   ]
  },
  {
   "cell_type": "code",
   "execution_count": 2,
   "id": "95e841cf",
   "metadata": {},
   "outputs": [
    {
     "data": {
      "text/plain": [
       "1.0000000000000002"
      ]
     },
     "execution_count": 2,
     "metadata": {},
     "output_type": "execute_result"
    }
   ],
   "source": [
    "# Mass loss models\n",
    "args1 = dict(radius=2.0, mass=5.0, Lxuv=2e28, dist=0.01, mstar=0.77)\n",
    "args2 = dict(radius=2.0, mass=5.0, lx=2e28, leuv=0, sep=0.01, mstar=0.77)\n",
    "conv = (constants.M_earth.to('g').value/units.Myr.to('s'))\n",
    "gs_corr = 5.28e-15\n",
    "\n",
    "x = ph.massloss.EnergyLimited(**args1)\n",
    "y = ph.dev.models.massloss_energy_limited(EvoState(**args2),dict())\n",
    "x *= conv\n",
    "# x /= gs_corr\n",
    "y/x\n"
   ]
  },
  {
   "cell_type": "code",
   "execution_count": 3,
   "id": "e15fb44d",
   "metadata": {},
   "outputs": [
    {
     "name": "stdout",
     "output_type": "stream",
     "text": [
      "35558162.6282282\n",
      "0.1 0.09090909090909091\n"
     ]
    },
    {
     "data": {
      "text/plain": [
       "(2.965589455950552, 2.7751985114298607)"
      ]
     },
     "execution_count": 3,
     "metadata": {},
     "output_type": "execute_result"
    }
   ],
   "source": [
    "# Envelope models\n",
    "fenv = 0.10\n",
    "lbol = 1e33\n",
    "sep  = 0.1\n",
    "fbol = ph.dev.physics.get_flux(lbol, dist_au=sep)\n",
    "\n",
    "print(fbol)\n",
    "\n",
    "fenv2 = fenv/(fenv+1)\n",
    "print(fenv, fenv2)\n",
    "\n",
    "x = ph.structure.ChenRogers16(mass=5.0, fenv=fenv, fbol=fbol, age=100)\n",
    "y = ph.dev.models.envelope_chen16(EvoState(mass=5.0, fenv=fenv, lbol=lbol, sep=sep, age=100), dict(c16_water=False))\n",
    "x,y"
   ]
  }
 ],
 "metadata": {
  "kernelspec": {
   "display_name": "Python 3",
   "language": "python",
   "name": "python3"
  },
  "language_info": {
   "codemirror_mode": {
    "name": "ipython",
    "version": 3
   },
   "file_extension": ".py",
   "mimetype": "text/x-python",
   "name": "python",
   "nbconvert_exporter": "python",
   "pygments_lexer": "ipython3",
   "version": "3.11.1 (tags/v3.11.1:a7a450f, Dec  6 2022, 19:58:39) [MSC v.1934 64 bit (AMD64)]"
  },
  "vscode": {
   "interpreter": {
    "hash": "e956c49ae0caa224b5fdd754cbc353d7e61c6c61f7329ee680c7f7b4f1b71a8e"
   }
  }
 },
 "nbformat": 4,
 "nbformat_minor": 5
}
