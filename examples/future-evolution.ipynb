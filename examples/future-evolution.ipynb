{
 "cells": [
  {
   "cell_type": "code",
   "execution_count": 35,
   "id": "fb05735a",
   "metadata": {},
   "outputs": [],
   "source": [
    "%matplotlib inline\n",
    "\n",
    "import matplotlib.pyplot as plt\n",
    "import photoevolver as ph"
   ]
  },
  {
   "cell_type": "code",
   "execution_count": 36,
   "id": "06324d19",
   "metadata": {},
   "outputs": [],
   "source": [
    "\"\"\"\n",
    "Here, we create a planet that is 10 Myr old and orbits 0.1 AU away from it host star.\n",
    "It has a core mass (mcore) of 2 Earth masses, and a total radius (rp) of 3 Earth radii.\n",
    "\"\"\"\n",
    "planet = ph.core.Planet( age = 10, dist = 0.1, mcore = 2.0, rp = 3.0 )"
   ]
  },
  {
   "cell_type": "code",
   "execution_count": 37,
   "id": "acfd9f7d",
   "metadata": {},
   "outputs": [
    {
     "name": "stdout",
     "output_type": "stream",
     "text": [
      "<photoevolver.core.Planet object at 0x7fe318a63610>\n",
      "\n",
      "          Radius    Mass      \n",
      "Core      1.26      2.00      [ice:0% iron:33%]\n",
      "Envelope  1.74      TBD       TBD\n",
      "Total     3.00      TBD\n",
      "\n"
     ]
    }
   ],
   "source": [
    "\"\"\"\n",
    "Print out the Planet object to see its parameters.\n",
    "\n",
    "Notice that, if we give it core mass, it will automatically calculate the core radius.\n",
    "This is done with mass-radius relations by Otegi et al. (2020), but you can also use your own\n",
    "by giving it a core radius manually as well.\n",
    "\n",
    "With the core parameters and the planet's radius, it was able to calculate the envelope radius,\n",
    "which here it extends to more than two times the radius of the core.\n",
    "\n",
    "In order to calculate the envelope and planet masses, it requires a structure formulation,\n",
    "which we will provide later.\n",
    "\"\"\"\n",
    "print(planet)"
   ]
  },
  {
   "cell_type": "code",
   "execution_count": 38,
   "id": "1f9182c8",
   "metadata": {},
   "outputs": [],
   "source": [
    "\"\"\"\n",
    "Now, we must obtain some more information about the host star.\n",
    "Especifically, its mass, bolometric luminosity, and XUV luminosity across time.\n",
    "\n",
    "A handy way to feed this information into the simulation is by using the module Mors,\n",
    "by Colin P. Johnstone.\n",
    "\n",
    "We will choose a typical K-dwarf star, with a rotation period of 15 days at an age of 700 Myr.\n",
    "\"\"\"\n",
    "import Mors as mors\n",
    "star = mors.Star(Mstar = 0.66, Prot = 15.0, Age = 700.0)"
   ]
  },
  {
   "cell_type": "code",
   "execution_count": 39,
   "id": "065b78a7",
   "metadata": {},
   "outputs": [],
   "source": [
    "\"\"\"\n",
    "Then, we choose a formulation for the envelope structure and for the atmospheric mass loss.\n",
    "\"\"\"\n",
    "structure = ph.structure.LopezFortney14\n",
    "mass_loss = ph.massloss.EnergyLimited"
   ]
  },
  {
   "cell_type": "code",
   "execution_count": 40,
   "id": "4ee20599",
   "metadata": {},
   "outputs": [],
   "source": [
    "\"\"\"\n",
    "Finally, we run the evolution code forward in time from the planet's age at 10 Myr to an age of 5 Gyr.\n",
    "We will generate two planet sims, one with mass loss and one without it.\n",
    "We also use a time step of 100_000 years (0.1 Myr), and, for the energy-limited formulation, an efficiency of 15%\n",
    "and an effective XUV radius to planet radius ratio (\"beta\") of 2.0.\n",
    "\"\"\"\n",
    "full = ph.core.evolve_forward (\n",
    "    planet = planet,\n",
    "    star = star,\n",
    "    struct = structure,\n",
    "    mloss = mass_loss,\n",
    "    age_end = 5000,\n",
    "    time_step = 0.1,\n",
    "    eff = 0.15,\n",
    "    beta = 2.0\n",
    ")\n",
    "\n",
    "no_mloss = ph.core.evolve_forward (\n",
    "    planet = planet,\n",
    "    star = star,\n",
    "    struct = structure,\n",
    "    mloss = None,\n",
    "    age_end = 5000,\n",
    "    time_step = 0.1,\n",
    ")"
   ]
  },
  {
   "cell_type": "code",
   "execution_count": 41,
   "id": "fb920370",
   "metadata": {},
   "outputs": [
    {
     "name": "stdout",
     "output_type": "stream",
     "text": [
      "dict_keys(['Age', 'Lbol', 'Lxuv', 'Rp', 'Mp', 'Menv', 'Renv', 'Fenv', 'Dens'])\n"
     ]
    }
   ],
   "source": [
    "\"\"\"\n",
    "Each track is an array that stores the value of each parameter at each simulation step.\n",
    "Access them just like a python dictionary:\n",
    "    tracks['Lbol']\n",
    "The available tracks are the following:\n",
    "\"\"\"\n",
    "print( full.keys() )"
   ]
  },
  {
   "cell_type": "code",
   "execution_count": 42,
   "id": "b4d96b0b",
   "metadata": {},
   "outputs": [
    {
     "data": {
      "text/plain": [
       "[<matplotlib.lines.Line2D at 0x7fe31905aaf0>]"
      ]
     },
     "execution_count": 42,
     "metadata": {},
     "output_type": "execute_result"
    },
    {
     "data": {
      "image/png": "[encoded data removed]",
      "text/plain": [
       "<Figure size 600x400 with 2 Axes>"
      ]
     },
     "metadata": {
      "needs_background": "light"
     },
     "output_type": "display_data"
    }
   ],
   "source": [
    "\"\"\"\n",
    "Now we will plot the radius and mass evolution of the planet in both cases.\n",
    "\"\"\"\n",
    "\n",
    "fig, (axr, axm) = plt.subplots(nrows = 2, dpi = 100, sharex = True)\n",
    "\n",
    "axr.set_xscale('log')\n",
    "axm.set_xlabel('Age [Myr]')\n",
    "axr.set_ylabel(r'Radius [$R_{\\oplus}$]')\n",
    "axm.set_ylabel(r'Envelope Mass [$M_{\\oplus}$]')\n",
    "\n",
    "axr.plot(full['Age'], full['Rp'], 'b-', label = \"Full tracks\")\n",
    "axr.plot(no_mloss['Age'], no_mloss['Rp'], 'r-', label = \"No mass loss\")\n",
    "\n",
    "axm.plot(full['Age'], full['Menv'], 'b-')\n",
    "axm.plot(no_mloss['Age'], no_mloss['Menv'], 'r-')"
   ]
  },
  {
   "cell_type": "code",
   "execution_count": 45,
   "id": "4624b12a",
   "metadata": {},
   "outputs": [
    {
     "name": "stdout",
     "output_type": "stream",
     "text": [
      "\n"
     ]
    }
   ],
   "source": [
    "\"\"\"\n",
    "With mass loss enabled, the planet loses its envelope by the age of about 55 Myr.\n",
    "Without mass loss, the envelope simply contracts following as it cools down.\n",
    "\"\"\"\n",
    "print()"
   ]
  }
 ],
 "metadata": {
  "kernelspec": {
   "display_name": "Python 3",
   "language": "python",
   "name": "python3"
  },
  "language_info": {
   "codemirror_mode": {
    "name": "ipython",
    "version": 3
   },
   "file_extension": ".py",
   "mimetype": "text/x-python",
   "name": "python",
   "nbconvert_exporter": "python",
   "pygments_lexer": "ipython3",
   "version": "3.8.10"
  }
 },
 "nbformat": 4,
 "nbformat_minor": 5
}
